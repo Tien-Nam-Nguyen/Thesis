{
 "cells": [
  {
   "cell_type": "code",
   "execution_count": 1,
   "metadata": {},
   "outputs": [],
   "source": [
    "import json\n",
    "import os\n",
    "\n",
    "YOUCOOK2_VOCAB_JSON = \"../yc2/vocabulary_youcook2.json\"\n",
    "ANET_VOCAB_JSON = \"../anet/vocabulary_activitynet.json\"\n",
    "\n",
    "youcook2File = open(YOUCOOK2_VOCAB_JSON, 'r')\n",
    "youCook2Data = json.load(youcook2File)\n",
    "\n",
    "anetFile = open(ANET_VOCAB_JSON, 'r')\n",
    "anetData = json.load(anetFile)"
   ]
  },
  {
   "cell_type": "code",
   "execution_count": null,
   "metadata": {},
   "outputs": [],
   "source": [
    "anetDict = list(anetData['word_to_ix'].keys())\n",
    "mixDict = anetDict.copy()\n",
    "\n",
    "for youCookWord in youCook2Data['word_to_ix']:\n",
    "    if youCookWord not in anetDict:\n",
    "        mixDict.append(youCookWord)\n",
    "        print(f\"New word: {youCookWord}\")\n",
    "\n",
    "print(len(anetDict))\n",
    "print(len(mixDict))"
   ]
  },
  {
   "cell_type": "code",
   "execution_count": null,
   "metadata": {},
   "outputs": [],
   "source": [
    "newDict = {'ix_to_word': {}, 'word_to_ix': {}}\n",
    "for index, word in enumerate(mixDict):\n",
    "    newDict['ix_to_word'][str(index + 1)] = word\n",
    "    newDict['word_to_ix'][word] = index + 1\n"
   ]
  },
  {
   "cell_type": "code",
   "execution_count": 23,
   "metadata": {},
   "outputs": [],
   "source": [
    "with open('vocabulary_mix.json', 'w') as outfile:\n",
    "    json.dump(newDict, outfile)"
   ]
  }
 ],
 "metadata": {
  "kernelspec": {
   "display_name": "PDVC",
   "language": "python",
   "name": "python3"
  },
  "language_info": {
   "codemirror_mode": {
    "name": "ipython",
    "version": 3
   },
   "file_extension": ".py",
   "mimetype": "text/x-python",
   "name": "python",
   "nbconvert_exporter": "python",
   "pygments_lexer": "ipython3",
   "version": "3.7.16"
  }
 },
 "nbformat": 4,
 "nbformat_minor": 2
}
