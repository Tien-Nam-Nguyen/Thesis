{
 "cells": [
  {
   "cell_type": "code",
   "execution_count": null,
   "metadata": {},
   "outputs": [],
   "source": [
    "import os\n",
    "import json\n",
    "\n",
    "ANET_TRAIN_JSON = \"../../anet/captiondata/train_modified.json\"\n"
   ]
  }
 ],
 "metadata": {
  "kernelspec": {
   "display_name": "PDVC",
   "language": "python",
   "name": "python3"
  },
  "language_info": {
   "name": "python",
   "version": "3.7.16"
  }
 },
 "nbformat": 4,
 "nbformat_minor": 2
}
